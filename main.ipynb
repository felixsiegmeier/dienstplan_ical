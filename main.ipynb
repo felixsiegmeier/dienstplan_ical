{
 "cells": [
  {
   "cell_type": "code",
   "execution_count": null,
   "id": "91b4756c",
   "metadata": {},
   "outputs": [],
   "source": [
    "import json\n",
    "import calendar\n",
    "from datetime import datetime, timedelta\n",
    "from ics import Calendar, Event\n",
    "from zoneinfo import ZoneInfo  # Python 3.9+\n",
    "\n",
    "# Daten aus JSON laden\n",
    "with open(\"dienstplan.json\", \"r\", encoding=\"utf-8\") as f:\n",
    "    data = json.load(f)\n",
    "monat = data[\"monat\"]\n",
    "jahr = data[\"jahr\"]\n",
    "dienstformen = {int(k): v for k, v in data[\"dienstformen\"].items()}\n",
    "\n",
    "def dienstzeiten(dienstform, datum):\n",
    "    # Dienstzeiten und Wegezeiten\n",
    "    zeiten = {\n",
    "        \"FD\": (\"06:00\", \"15:30\"),  # 6:30 - 15:00 + 30min vorher/nachher\n",
    "        \"ZD\": (\"09:30\", \"19:30\"),  # 10:00 - 19:00 + 30min vorher/nachher\n",
    "        \"SD\": (\"14:00\", \"23:30\"),  # 14:30 - 23:00 + 30min vorher/nachher\n",
    "        \"ND\": (\"22:00\", \"08:30\"),  # 22:30 - 08:00 + 30min vorher/nachher (Folgetag)\n",
    "    }\n",
    "    if dienstform == \"Frei\":\n",
    "        return None, None\n",
    "    tz = ZoneInfo(\"Europe/Berlin\")\n",
    "    start_str, end_str = zeiten[dienstform]\n",
    "    start_dt = datetime.combine(datum, datetime.strptime(start_str, \"%H:%M\").time(), tzinfo=tz)\n",
    "    # Nachtdienst endet am Folgetag\n",
    "    if dienstform == \"ND\":\n",
    "        end_dt = datetime.combine(datum + timedelta(days=1), datetime.strptime(end_str, \"%H:%M\").time(), tzinfo=tz)\n",
    "    else:\n",
    "        end_dt = datetime.combine(datum, datetime.strptime(end_str, \"%H:%M\").time(), tzinfo=tz)\n",
    "    return start_dt, end_dt\n",
    "\n",
    "def erstelle_kalender(monat, jahr, dienstformen):\n",
    "    cal = Calendar()\n",
    "    _, num_days = calendar.monthrange(jahr, monat)\n",
    "    for tag in range(1, num_days + 1):\n",
    "        datum = datetime(jahr, monat, tag).date()\n",
    "        dienstform = dienstformen.get(tag, \"Frei\")\n",
    "        start, end = dienstzeiten(dienstform, datum)\n",
    "        if start and end:\n",
    "            e = Event()\n",
    "            e.name = f\"{dienstform} Dienst\"\n",
    "            e.begin = start\n",
    "            e.end = end\n",
    "            e.description = f\"{dienstform} am {datum.strftime('%d.%m.%Y')}\"\n",
    "            cal.events.add(e)\n",
    "    return cal\n",
    "\n",
    "# Kalender erstellen und als .ics Datei speichern\n",
    "cal = erstelle_kalender(monat, jahr, dienstformen)\n",
    "with open(\"dienstplan.ics\", \"w\", encoding=\"utf-8\") as f:\n",
    "    f.write(str(cal))"
   ]
  },
  {
   "cell_type": "code",
   "execution_count": null,
   "id": "1c8751d0",
   "metadata": {},
   "outputs": [],
   "source": []
  }
 ],
 "metadata": {
  "kernelspec": {
   "display_name": ".venv (3.13.7)",
   "language": "python",
   "name": "python3"
  },
  "language_info": {
   "codemirror_mode": {
    "name": "ipython",
    "version": 3
   },
   "file_extension": ".py",
   "mimetype": "text/x-python",
   "name": "python",
   "nbconvert_exporter": "python",
   "pygments_lexer": "ipython3",
   "version": "3.13.7"
  }
 },
 "nbformat": 4,
 "nbformat_minor": 5
}
